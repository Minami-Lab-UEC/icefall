{
 "cells": [
  {
   "cell_type": "code",
   "execution_count": 1,
   "metadata": {},
   "outputs": [],
   "source": [
    "from kenlmwrapper import Model"
   ]
  },
  {
   "cell_type": "code",
   "execution_count": 24,
   "metadata": {},
   "outputs": [
    {
     "name": "stderr",
     "output_type": "stream",
     "text": [
      "Loading the LM will be faster if you build a binary file.\n",
      "Reading /mnt/host/icefall-cift1/egs/csj/ASR/approx_tgtlens/data/5gram.arpa\n",
      "----5---10---15---20---25---30---35---40---45---50---55---60---65---70---75---80---85---90---95--100\n",
      "The ARPA file is missing <unk>.  Substituting log10 probability -100.\n",
      "****************************************************************************************************\n"
     ]
    }
   ],
   "source": [
    "model = Model(\"data/5gram.arpa\")\n",
    "slope = 0.72205136160654204"
   ]
  },
  {
   "cell_type": "code",
   "execution_count": 38,
   "metadata": {},
   "outputs": [],
   "source": [
    "# sentence = \"凄 い 神 秘 的 で 奇 麗 で 凄 い 感 動 し ま し た\"\n",
    "# sentence = \"視聴者の方から寄せられたおもしろ単語を紹介します\"\n",
    "sentence = \"ゆる言語学ラジオ稀語募集フォーム\"\n",
    "sentence = ' '.join(list(sentence))"
   ]
  },
  {
   "cell_type": "code",
   "execution_count": 39,
   "metadata": {},
   "outputs": [
    {
     "data": {
      "text/plain": [
       "-40.6986083984375"
      ]
     },
     "execution_count": 39,
     "metadata": {},
     "output_type": "execute_result"
    }
   ],
   "source": [
    "score = model.score(sentence)\n",
    "score"
   ]
  },
  {
   "cell_type": "code",
   "execution_count": 40,
   "metadata": {},
   "outputs": [
    {
     "data": {
      "text/plain": [
       "29.386485609583243"
      ]
     },
     "execution_count": 40,
     "metadata": {},
     "output_type": "execute_result"
    }
   ],
   "source": [
    "nwords = score * -slope\n",
    "nwords"
   ]
  },
  {
   "cell_type": "code",
   "execution_count": 41,
   "metadata": {},
   "outputs": [
    {
     "data": {
      "text/plain": [
       "[('ゆ', -3.785308599472046, 2, False),\n",
       " ('る', -1.8776620626449585, 2, False),\n",
       " ('言', -2.698870897293091, 3, False),\n",
       " ('語', -1.0505682229995728, 4, False),\n",
       " ('学', -2.841158628463745, 4, False),\n",
       " ('ラ', -3.5979700088500977, 2, False),\n",
       " ('ジ', -2.0350348949432373, 2, False),\n",
       " ('オ', -0.189109206199646, 3, False),\n",
       " ('稀', -5.6199493408203125, 1, False),\n",
       " ('語', -3.77321195602417, 1, False),\n",
       " ('募', -4.508659362792969, 1, False),\n",
       " ('集', -0.3471373915672302, 2, False),\n",
       " ('フ', -3.9196810722351074, 1, False),\n",
       " ('ォ', -1.2015422582626343, 2, False),\n",
       " ('ー', -0.41665521264076233, 3, False),\n",
       " ('ム', -0.8980770111083984, 4, False)]"
      ]
     },
     "execution_count": 41,
     "metadata": {},
     "output_type": "execute_result"
    }
   ],
   "source": [
    "[(t, *tpl) for t, tpl in zip(sentence.split(\" \"), list(model.full_scores(sentence)))]"
   ]
  },
  {
   "cell_type": "code",
   "execution_count": 42,
   "metadata": {},
   "outputs": [
    {
     "data": {
      "text/plain": [
       "1.3849430292258307"
      ]
     },
     "execution_count": 42,
     "metadata": {},
     "output_type": "execute_result"
    }
   ],
   "source": [
    "unit = 1/slope\n",
    "unit"
   ]
  },
  {
   "cell_type": "code",
   "execution_count": 43,
   "metadata": {},
   "outputs": [
    {
     "data": {
      "text/plain": [
       "'∅ ∅ ゆ ∅ ∅ る ∅ ∅ 言 語 ∅ ∅ 学 ∅ ∅ ∅ ラ ∅ ジ ∅ オ ∅ ∅ ∅ ∅ 稀 ∅ ∅ 語 ∅ ∅ ∅ ∅ 募 集 ∅ ∅ ∅ フ ∅ ォ ー ム ∅'"
      ]
     },
     "execution_count": 43,
     "metadata": {},
     "output_type": "execute_result"
    }
   ],
   "source": [
    "accum_logprob = 0\n",
    "out = []\n",
    "for token, (lprob, *_) in zip(sentence.split(\" \"), list(model.full_scores(sentence))):\n",
    "    # lprob_half = lprob / 2\n",
    "    accum_logprob -= lprob\n",
    "    while accum_logprob >= unit:\n",
    "        accum_logprob -= unit\n",
    "        out.append(\"∅\")\n",
    "    out.append(token)\n",
    "    # accum_logprob -= lprob_half\n",
    "    # while accum_logprob >= unit:\n",
    "    #     accum_logprob -= unit\n",
    "    #     out.append(\"∅\")\n",
    "if accum_logprob > 0:\n",
    "    out.append(\"∅\")\n",
    "out = ' '.join(out)\n",
    "out"
   ]
  }
 ],
 "metadata": {
  "kernelspec": {
   "display_name": "base",
   "language": "python",
   "name": "python3"
  },
  "language_info": {
   "codemirror_mode": {
    "name": "ipython",
    "version": 3
   },
   "file_extension": ".py",
   "mimetype": "text/x-python",
   "name": "python",
   "nbconvert_exporter": "python",
   "pygments_lexer": "ipython3",
   "version": "3.10.13"
  }
 },
 "nbformat": 4,
 "nbformat_minor": 2
}
